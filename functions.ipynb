{
 "cells": [
  {
   "cell_type": "markdown",
   "metadata": {},
   "source": [
    "# Уравнения состояния.\n",
    "\n",
    "## Уравнение Бенедикта-Вебба-Рубина\n",
    "\n",
    "Уравнение состояния Бенедикта-Вебба (Уэбба)-Рубина (БВР) – многопараметрическое уравнение состояния, полученное [1, 2] в 1940 – 42 годах Мэнсоном Бенедиктом (Manson Benedict), Джорджем Веббом (Уэббом) (George B. Webb) и Льюисом Рубином (Louis C. Rubin) в результате модификации  уравнения Битти-Бриджмена. Уравнение было выведено через корреляции термодинамических и волюметрических данных для индивидуальных жидких и парогазообразных лёгких углеводородов и их смесей."
   ]
  },
  {
   "cell_type": "code",
   "execution_count": 3,
   "metadata": {},
   "outputs": [
    {
     "data": {
      "text/plain": [
       "0"
      ]
     },
     "execution_count": 3,
     "metadata": {},
     "output_type": "execute_result"
    }
   ],
   "source": [
    "def BWR():\n",
    "    return 0\n",
    "\n",
    "BWR()"
   ]
  }
 ],
 "metadata": {
  "kernelspec": {
   "display_name": "Python 3.10.4 64-bit",
   "language": "python",
   "name": "python3"
  },
  "language_info": {
   "codemirror_mode": {
    "name": "ipython",
    "version": 3
   },
   "file_extension": ".py",
   "mimetype": "text/x-python",
   "name": "python",
   "nbconvert_exporter": "python",
   "pygments_lexer": "ipython3",
   "version": "3.10.4"
  },
  "orig_nbformat": 4,
  "vscode": {
   "interpreter": {
    "hash": "916dbcbb3f70747c44a77c7bcd40155683ae19c65e1c03b4aa3499c5328201f1"
   }
  }
 },
 "nbformat": 4,
 "nbformat_minor": 2
}
